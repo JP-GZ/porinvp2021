{
 "cells": [
  {
   "cell_type": "markdown",
   "metadata": {},
   "source": [
    "# Selección óptima de portafolios II\n",
    "\n",
    "<img style=\"float: right; margin: 0px 0px 15px 15px;\" src=\"https://upload.wikimedia.org/wikipedia/commons/thumb/6/6e/Separation_theorem_of_MPT.svg/2000px-Separation_theorem_of_MPT.svg.png\" width=\"400px\" height=\"400px\" />\n",
    "\n",
    "Entonces, tenemos que:\n",
    "- La LAC describe las posibles selecciones de riesgo-rendimiento entre un activo libre de riesgo y un activo riesgoso.\n",
    "- Su pendiente es igual al radio de Sharpe del activo riesgoso.\n",
    "- La asignación óptima de capital para cualquier inversionista es el punto tangente de la curva de indiferencia del inversionista con la LAC.\n",
    "\n",
    "Para todo lo anterior, supusimos que ya teníamos el portafolio óptimo (activo riesgoso).\n",
    "\n",
    "En la clase pasada aprendimos a hallar este portafolio óptimo si el conjunto de activos riesgosos estaba conformado únicamente por dos activos:\n",
    "\n",
    "$$w_{1,EMV}=\\frac{(E[r_1]-r_f)\\sigma_2^2-(E[r_2]-r_f)\\sigma_{12}}{(E[r_2]-r_f)\\sigma_1^2+(E[r_1]-r_f)\\sigma_2^2-((E[r_1]-r_f)+(E[r_2]-r_f))\\sigma_{12}}.$$\n",
    "\n",
    "- Sin embargo, la complejidad del problema crece considerablemente con el número de variables, y la solución analítica deja de ser viable cuando mencionamos que un portafolio bien diversificado consta aproximadamente de 50-60 activos.\n",
    "- En esos casos, este problema se soluciona con rutinas numéricas que hagan la optimización por nosotros, porque son una solución viable y escalable a más variables.\n",
    " \n",
    "\n",
    "**Objetivos:**\n",
    "- ¿Cuál es el portafolio óptimo de activos riesgosos cuando tenemos más de dos activos?\n",
    " - ¿Cómo construir la frontera de mínima varianza cuando tenemos más de dos activos?\n",
    "\n",
    "*Referencia:*\n",
    "- Notas del curso \"Portfolio Selection and Risk Management\", Rice University, disponible en Coursera.\n",
    "___"
   ]
  },
  {
   "cell_type": "markdown",
   "metadata": {},
   "source": [
    "## 1. Maximizando el radio de Sharpe\n",
    "\n",
    "### ¿Qué pasa si tenemos más de dos activos riesgosos?\n",
    "\n",
    "En realidad es algo muy similar a lo que teníamos con dos activos.\n",
    "- Para dos activos, construir la frontera de mínima varianza es trivial: todas las posibles combinaciones.\n",
    "- Con más de dos activos, recordar la definición: la frontera de mínima varianza es el lugar geométrico de los portafolios que proveen el mínimo riesgo para un nivel de rendimiento dado.\n",
    "\n",
    "<font color=blue> Ver en el tablero.</font>"
   ]
  },
  {
   "cell_type": "markdown",
   "metadata": {},
   "source": [
    "Analíticamente:\n",
    "- $n$ activos, \n",
    "- caracterizados por $(\\sigma_i,E[r_i])$,\n",
    "- cada uno con peso $w_i$, con $i=1,2,\\dots,n$.\n",
    "\n",
    "Entonces, buscamos los pesos tales que\n",
    "\n",
    "\\begin{align}\n",
    "\\min_{w_1,\\dots,w_n} & \\quad \\sum_{i=1}^{n}w_i^2\\sigma_i^2+\\sum_{i=1}^{n}\\sum_{j=1,j\\neq i}^{n}w_iw_j\\sigma_{ij}\\\\\n",
    "\\text{s.a.}          & \\quad \\sum_{i=1}^{n}w_i=1, w_i\\geq0\\\\\n",
    "                     & \\quad \\sum_{i=1}^{n}w_iE[r_i]=\\bar{\\mu},\n",
    "\\end{align}\n",
    "\n",
    "donde $\\bar{\\mu}$ corresponde a un nivel de rendimiento objetivo. \n",
    "\n",
    "**Obviamente, tendríamos que resolver este problema para muchos niveles de rendimiento objetivo.**\n",
    "\n",
    "- <font color=blue> Explicar relación con gráfica.</font>\n",
    "\n",
    "- <font color=green> Recordar clase 10.</font>"
   ]
  },
  {
   "cell_type": "markdown",
   "metadata": {},
   "source": [
    "Lo anterior se puede escribir vectorialmente como:"
   ]
  },
  {
   "cell_type": "markdown",
   "metadata": {},
   "source": [
    "\\begin{align}\n",
    "\\min_{\\boldsymbol{w}} & \\quad \\boldsymbol{w}^T\\Sigma\\boldsymbol{w}\\\\\n",
    "\\text{s.a.}          & \\quad \\boldsymbol{1}^T\\boldsymbol{w}=1, \\boldsymbol{w}\\geq0\\\\\n",
    "                     & \\quad E[\\boldsymbol{r}^T]\\boldsymbol{w}=\\bar{\\mu},\n",
    "\\end{align}\n",
    "\n",
    "donde:\n",
    "- $\\boldsymbol{w}=\\left[w_1,\\dots,w_n\\right]^T$ es el vector de pesos,\n",
    "- $\\boldsymbol{1}=\\left[1,\\dots,1\\right]^T$ es un vector de unos,\n",
    "- $E[\\boldsymbol{r}]=\\left[E[r_1],\\dots,E[r_n]\\right]^T$ es el vector de rendimientos esperados, y\n",
    "- $\\Sigma=\\left[\\begin{array}{cccc}\\sigma_{1}^2 & \\sigma_{12}  & \\dots  & \\sigma_{1n} \\\\\n",
    "                                   \\sigma_{21}  & \\sigma_{2}^2 & \\dots  & \\sigma_{2n} \\\\\n",
    "                                   \\vdots       & \\vdots       & \\ddots & \\vdots      \\\\\n",
    "                                   \\sigma_{n1}  & \\sigma_{n2}  & \\dots  & \\sigma_{n}^2\\end{array}\\right]$ es la matriz de varianza-covarianza.\n",
    "                                   \n",
    "**Esta última forma es la que comúnmente usamos al programar, por ser eficiente y escalable a problemas de N variables.**"
   ]
  },
  {
   "cell_type": "markdown",
   "metadata": {},
   "source": [
    "### Entonces, ¿para cuántos niveles de rendimiento objetivo tendríamos que resolver el anterior problema con el fin de graficar la frontera de mínima varianza?\n",
    "- Observar que el problema puede volverse muy pesado a medida que incrementamos el número de activos en nuestro portafolio...\n",
    "- Una tarea bastante compleja."
   ]
  },
  {
   "cell_type": "markdown",
   "metadata": {},
   "source": [
    "### Sucede que, en realidad, sólo necesitamos conocer dos portafolios que estén sobre la *frontera de mínima varianza*.\n",
    "- Si logramos encontrar dos portafolios sobre la frontera, entonces podemos a la vez encontrar todas las posibles combinaciones de estos dos portafolios para trazar la frontera de mínima varianza.\n",
    "- Ver el caso de dos activos."
   ]
  },
  {
   "cell_type": "markdown",
   "metadata": {},
   "source": [
    "### ¿Qué portafolios usar?\n",
    "Hasta ahora, hemos estudiando profundamente como hallar dos portafolios muy importantes que de hecho yacen sobre la frontera de mínima varianza:\n",
    "1. Portafolio de EMV: máximo SR.\n",
    "2. Portafolio de mínima varianza: básicamente, el mismo problema anterior, sin la restricción de rendimiento objetivo.\n",
    "\n",
    "Luego, tomar todas las posibles combinaciones de dichos portafolios usando las fórmulas para dos activos de medias y varianzas:\n",
    "- w: peso para el portafolio EMV,\n",
    "- 1-w: peso para le portafolio de mínima varianza."
   ]
  },
  {
   "cell_type": "markdown",
   "metadata": {},
   "source": [
    "## 2. Ejemplo ilustrativo.\n",
    "\n",
    "Retomamos el ejemplo de mercados de acciones en los países integrantes del $G5$: EU, RU, Francia, Alemania y Japón."
   ]
  },
  {
   "cell_type": "code",
   "execution_count": 1,
   "metadata": {},
   "outputs": [],
   "source": [
    "# Importamos pandas y numpy\n",
    "import pandas as pd\n",
    "import numpy as np"
   ]
  },
  {
   "cell_type": "code",
   "execution_count": 2,
   "metadata": {},
   "outputs": [
    {
     "data": {
      "text/html": [
       "<div>\n",
       "<style scoped>\n",
       "    .dataframe tbody tr th:only-of-type {\n",
       "        vertical-align: middle;\n",
       "    }\n",
       "\n",
       "    .dataframe tbody tr th {\n",
       "        vertical-align: top;\n",
       "    }\n",
       "\n",
       "    .dataframe thead th {\n",
       "        text-align: right;\n",
       "    }\n",
       "</style>\n",
       "<table border=\"1\" class=\"dataframe\">\n",
       "  <thead>\n",
       "    <tr style=\"text-align: right;\">\n",
       "      <th></th>\n",
       "      <th>EU</th>\n",
       "      <th>RU</th>\n",
       "      <th>Francia</th>\n",
       "      <th>Alemania</th>\n",
       "      <th>Japon</th>\n",
       "    </tr>\n",
       "  </thead>\n",
       "  <tbody>\n",
       "    <tr>\n",
       "      <th>Media</th>\n",
       "      <td>0.1355</td>\n",
       "      <td>0.1589</td>\n",
       "      <td>0.1519</td>\n",
       "      <td>0.1435</td>\n",
       "      <td>0.1497</td>\n",
       "    </tr>\n",
       "    <tr>\n",
       "      <th>Volatilidad</th>\n",
       "      <td>0.1535</td>\n",
       "      <td>0.243</td>\n",
       "      <td>0.2324</td>\n",
       "      <td>0.2038</td>\n",
       "      <td>0.2298</td>\n",
       "    </tr>\n",
       "  </tbody>\n",
       "</table>\n",
       "</div>"
      ],
      "text/plain": [
       "                 EU      RU Francia Alemania   Japon\n",
       "Media        0.1355  0.1589  0.1519   0.1435  0.1497\n",
       "Volatilidad  0.1535   0.243  0.2324   0.2038  0.2298"
      ]
     },
     "execution_count": 2,
     "metadata": {},
     "output_type": "execute_result"
    }
   ],
   "source": [
    "# Resumen en base anual de rendimientos esperados y volatilidades\n",
    "annual_ret_summ = pd.DataFrame(columns=['EU', 'RU', 'Francia', 'Alemania', 'Japon'], index=['Media', 'Volatilidad'])\n",
    "annual_ret_summ.loc['Media'] = np.array([0.1355, 0.1589, 0.1519, 0.1435, 0.1497])\n",
    "annual_ret_summ.loc['Volatilidad'] = np.array([0.1535, 0.2430, 0.2324, 0.2038, 0.2298])\n",
    "\n",
    "annual_ret_summ.round(4)"
   ]
  },
  {
   "cell_type": "code",
   "execution_count": 3,
   "metadata": {},
   "outputs": [
    {
     "data": {
      "text/html": [
       "<div>\n",
       "<style scoped>\n",
       "    .dataframe tbody tr th:only-of-type {\n",
       "        vertical-align: middle;\n",
       "    }\n",
       "\n",
       "    .dataframe tbody tr th {\n",
       "        vertical-align: top;\n",
       "    }\n",
       "\n",
       "    .dataframe thead th {\n",
       "        text-align: right;\n",
       "    }\n",
       "</style>\n",
       "<table border=\"1\" class=\"dataframe\">\n",
       "  <thead>\n",
       "    <tr style=\"text-align: right;\">\n",
       "      <th></th>\n",
       "      <th>EU</th>\n",
       "      <th>RU</th>\n",
       "      <th>Francia</th>\n",
       "      <th>Alemania</th>\n",
       "      <th>Japon</th>\n",
       "    </tr>\n",
       "  </thead>\n",
       "  <tbody>\n",
       "    <tr>\n",
       "      <th>EU</th>\n",
       "      <td>1.0000</td>\n",
       "      <td>0.5003</td>\n",
       "      <td>0.4398</td>\n",
       "      <td>0.3681</td>\n",
       "      <td>0.2663</td>\n",
       "    </tr>\n",
       "    <tr>\n",
       "      <th>RU</th>\n",
       "      <td>0.5003</td>\n",
       "      <td>1.0000</td>\n",
       "      <td>0.5420</td>\n",
       "      <td>0.4265</td>\n",
       "      <td>0.3581</td>\n",
       "    </tr>\n",
       "    <tr>\n",
       "      <th>Francia</th>\n",
       "      <td>0.4398</td>\n",
       "      <td>0.5420</td>\n",
       "      <td>1.0000</td>\n",
       "      <td>0.6032</td>\n",
       "      <td>0.3923</td>\n",
       "    </tr>\n",
       "    <tr>\n",
       "      <th>Alemania</th>\n",
       "      <td>0.3681</td>\n",
       "      <td>0.4265</td>\n",
       "      <td>0.6032</td>\n",
       "      <td>1.0000</td>\n",
       "      <td>0.3663</td>\n",
       "    </tr>\n",
       "    <tr>\n",
       "      <th>Japon</th>\n",
       "      <td>0.2663</td>\n",
       "      <td>0.3581</td>\n",
       "      <td>0.3923</td>\n",
       "      <td>0.3663</td>\n",
       "      <td>1.0000</td>\n",
       "    </tr>\n",
       "  </tbody>\n",
       "</table>\n",
       "</div>"
      ],
      "text/plain": [
       "              EU      RU  Francia  Alemania   Japon\n",
       "EU        1.0000  0.5003   0.4398    0.3681  0.2663\n",
       "RU        0.5003  1.0000   0.5420    0.4265  0.3581\n",
       "Francia   0.4398  0.5420   1.0000    0.6032  0.3923\n",
       "Alemania  0.3681  0.4265   0.6032    1.0000  0.3663\n",
       "Japon     0.2663  0.3581   0.3923    0.3663  1.0000"
      ]
     },
     "execution_count": 3,
     "metadata": {},
     "output_type": "execute_result"
    }
   ],
   "source": [
    "# Matriz de correlación\n",
    "corr = pd.DataFrame(data= np.array([[1.0000, 0.5003, 0.4398, 0.3681, 0.2663],\n",
    "                                    [0.5003, 1.0000, 0.5420, 0.4265, 0.3581],\n",
    "                                    [0.4398, 0.5420, 1.0000, 0.6032, 0.3923],\n",
    "                                    [0.3681, 0.4265, 0.6032, 1.0000, 0.3663],\n",
    "                                    [0.2663, 0.3581, 0.3923, 0.3663, 1.0000]]),\n",
    "                    columns=annual_ret_summ.columns, index=annual_ret_summ.columns)\n",
    "corr.round(4)"
   ]
  },
  {
   "cell_type": "code",
   "execution_count": 4,
   "metadata": {},
   "outputs": [],
   "source": [
    "# Tasa libre de riesgo\n",
    "rf = 0.05"
   ]
  },
  {
   "cell_type": "markdown",
   "metadata": {},
   "source": [
    "Esta vez, supondremos que tenemos disponibles todos los mercados de acciones y el activo libre de riesgo."
   ]
  },
  {
   "cell_type": "markdown",
   "metadata": {},
   "source": [
    "#### 1. Construir la frontera de mínima varianza"
   ]
  },
  {
   "cell_type": "markdown",
   "metadata": {},
   "source": [
    "##### 1.1. Encontrar portafolio de mínima varianza"
   ]
  },
  {
   "cell_type": "code",
   "execution_count": 5,
   "metadata": {},
   "outputs": [],
   "source": [
    "# Importamos funcion minimize del modulo optimize de scipy\n",
    "from scipy.optimize import minimize"
   ]
  },
  {
   "cell_type": "code",
   "execution_count": 12,
   "metadata": {},
   "outputs": [],
   "source": [
    "## Construcción de parámetros\n",
    "# 1. Sigma: matriz de varianza-covarianza Sigma = S.dot(corr).dot(S)\n",
    "S = np.diag(annual_ret_summ.loc['Volatilidad'].values)\n",
    "Sigma = S.dot(corr).dot(S)\n",
    "# 2. Eind: rendimientos esperados activos individuales\n",
    "Eind = annual_ret_summ.loc['Media'].values"
   ]
  },
  {
   "cell_type": "code",
   "execution_count": 13,
   "metadata": {},
   "outputs": [],
   "source": [
    "# Función objetivo\n",
    "def varianza(w, Sigma):\n",
    "    return w.T.dot(Sigma).dot(w)"
   ]
  },
  {
   "cell_type": "code",
   "execution_count": 16,
   "metadata": {},
   "outputs": [],
   "source": [
    "# Número de activos\n",
    "n = len(Eind)\n",
    "# Dato inicial\n",
    "w0 = np.ones((n,)) / n\n",
    "# Cotas de las variables\n",
    "bnds = ((0, 1),) * n\n",
    "# Restricciones\n",
    "cons = {'type': 'eq', 'fun': lambda w: w.sum() - 1}"
   ]
  },
  {
   "cell_type": "code",
   "execution_count": 30,
   "metadata": {},
   "outputs": [
    {
     "data": {
      "text/plain": [
       "     fun: 0.018616443574850292\n",
       "     jac: array([0.03723289, 0.03879431, 0.03847277, 0.03723289, 0.03723289])\n",
       " message: 'Optimization terminated successfully.'\n",
       "    nfev: 70\n",
       "     nit: 10\n",
       "    njev: 10\n",
       "  status: 0\n",
       " success: True\n",
       "       x: array([6.20462983e-01, 7.83336070e-18, 1.21972744e-19, 2.03475332e-01,\n",
       "       1.76061685e-01])"
      ]
     },
     "execution_count": 30,
     "metadata": {},
     "output_type": "execute_result"
    }
   ],
   "source": [
    "# Portafolio de mínima varianza\n",
    "minvar = minimize(fun=varianza,\n",
    "                  x0=w0,\n",
    "                  args=(Sigma,),\n",
    "                  bounds=bnds,\n",
    "                  constraints=cons,\n",
    "                  tol=1e-8)\n",
    "minvar"
   ]
  },
  {
   "cell_type": "code",
   "execution_count": 31,
   "metadata": {},
   "outputs": [
    {
     "data": {
      "text/plain": [
       "array([6.20462983e-01, 7.83336070e-18, 1.21972744e-19, 2.03475332e-01,\n",
       "       1.76061685e-01])"
      ]
     },
     "execution_count": 31,
     "metadata": {},
     "output_type": "execute_result"
    }
   ],
   "source": [
    "w_minvar = minvar.x\n",
    "w_minvar"
   ]
  },
  {
   "cell_type": "code",
   "execution_count": 32,
   "metadata": {},
   "outputs": [
    {
     "data": {
      "text/plain": [
       "(0.1396278785815335, 0.13644208872210323, 0.6568931875858481)"
      ]
     },
     "execution_count": 32,
     "metadata": {},
     "output_type": "execute_result"
    }
   ],
   "source": [
    "# Pesos, rendimiento y riesgo del portafolio de mínima varianza\n",
    "E_minvar = Eind.T.dot(w_minvar)\n",
    "s_minvar = (w_minvar.T.dot(Sigma).dot(w_minvar))**0.5\n",
    "RS_minvar = (E_minvar - rf) / s_minvar\n",
    "E_minvar, s_minvar, RS_minvar"
   ]
  },
  {
   "cell_type": "markdown",
   "metadata": {},
   "source": [
    "##### 1.2. Encontrar portafolio EMV"
   ]
  },
  {
   "cell_type": "code",
   "execution_count": 33,
   "metadata": {},
   "outputs": [],
   "source": [
    "# Función objetivo\n",
    "def menos_RS(w, Eind, Sigma, rf):\n",
    "    Ep = Eind.T.dot(w)\n",
    "    sp = (w.T.dot(Sigma).dot(w))**0.5\n",
    "    RS = (Ep - rf) / sp\n",
    "    return -RS"
   ]
  },
  {
   "cell_type": "code",
   "execution_count": 34,
   "metadata": {},
   "outputs": [],
   "source": [
    "# Número de activos\n",
    "n = len(Eind)\n",
    "# Dato inicial\n",
    "w0 = np.ones((n,)) / n\n",
    "# Cotas de las variables\n",
    "bnds = ((0, 1),) * n\n",
    "# Restricciones\n",
    "cons = {'type': 'eq', 'fun': lambda w: w.sum() - 1}"
   ]
  },
  {
   "cell_type": "code",
   "execution_count": 35,
   "metadata": {},
   "outputs": [
    {
     "data": {
      "text/plain": [
       "     fun: -0.664437512237807\n",
       "     jac: array([-0.36086556, -0.36089808, -0.36088002, -0.36088953, -0.36087754])\n",
       " message: 'Optimization terminated successfully.'\n",
       "    nfev: 49\n",
       "     nit: 7\n",
       "    njev: 7\n",
       "  status: 0\n",
       " success: True\n",
       "       x: array([0.50731464, 0.07473334, 0.02414464, 0.1899434 , 0.20386397])"
      ]
     },
     "execution_count": 35,
     "metadata": {},
     "output_type": "execute_result"
    }
   ],
   "source": [
    "# Portafolio EMV\n",
    "EMV = minimize(fun=menos_RS,\n",
    "               x0=w0,\n",
    "               args=(Eind, Sigma, rf),\n",
    "               bounds=bnds,\n",
    "               constraints=cons,\n",
    "               tol=1e-8)\n",
    "EMV"
   ]
  },
  {
   "cell_type": "code",
   "execution_count": 36,
   "metadata": {},
   "outputs": [
    {
     "data": {
      "text/plain": [
       "array([0.50731464, 0.07473334, 0.02414464, 0.1899434 , 0.20386397])"
      ]
     },
     "execution_count": 36,
     "metadata": {},
     "output_type": "execute_result"
    }
   ],
   "source": [
    "w_EMV = EMV.x\n",
    "w_EMV"
   ]
  },
  {
   "cell_type": "code",
   "execution_count": 38,
   "metadata": {},
   "outputs": [
    {
     "data": {
      "text/plain": [
       "(0.14205914794249047, 0.13855200262916798, 0.664437512237807)"
      ]
     },
     "execution_count": 38,
     "metadata": {},
     "output_type": "execute_result"
    }
   ],
   "source": [
    "# Pesos, rendimiento y riesgo del portafolio EMV\n",
    "E_EMV = Eind.T.dot(w_EMV)\n",
    "s_EMV = (w_EMV.T.dot(Sigma).dot(w_EMV))**0.5\n",
    "RS_EMV = (E_EMV - rf) / s_EMV\n",
    "E_EMV, s_EMV, RS_EMV"
   ]
  },
  {
   "cell_type": "code",
   "execution_count": 39,
   "metadata": {},
   "outputs": [
    {
     "data": {
      "text/plain": [
       "(0.1396278785815335, 0.13644208872210323, 0.6568931875858481)"
      ]
     },
     "execution_count": 39,
     "metadata": {},
     "output_type": "execute_result"
    }
   ],
   "source": [
    "E_minvar, s_minvar, RS_minvar"
   ]
  },
  {
   "cell_type": "markdown",
   "metadata": {},
   "source": [
    "##### 1.3. Construir frontera de mínima varianza"
   ]
  },
  {
   "cell_type": "markdown",
   "metadata": {},
   "source": [
    "También debemos encontrar la covarianza (o correlación) entre estos dos portafolios:"
   ]
  },
  {
   "cell_type": "code",
   "execution_count": 40,
   "metadata": {},
   "outputs": [
    {
     "data": {
      "text/plain": [
       "0.018689756963209854"
      ]
     },
     "execution_count": 40,
     "metadata": {},
     "output_type": "execute_result"
    }
   ],
   "source": [
    "# Covarianza entre los portafolios\n",
    "cov = w_EMV.T.dot(Sigma).dot(w_minvar)\n",
    "cov"
   ]
  },
  {
   "cell_type": "code",
   "execution_count": 41,
   "metadata": {},
   "outputs": [
    {
     "data": {
      "text/plain": [
       "0.988649810226868"
      ]
     },
     "execution_count": 41,
     "metadata": {},
     "output_type": "execute_result"
    }
   ],
   "source": [
    "# Correlación entre los portafolios\n",
    "corr = cov / (s_EMV * s_minvar)\n",
    "corr"
   ]
  },
  {
   "cell_type": "code",
   "execution_count": 43,
   "metadata": {},
   "outputs": [
    {
     "data": {
      "text/plain": [
       "array([0.50731464, 0.07473334, 0.02414464, 0.1899434 , 0.20386397])"
      ]
     },
     "execution_count": 43,
     "metadata": {},
     "output_type": "execute_result"
    }
   ],
   "source": [
    "w_EMV"
   ]
  },
  {
   "cell_type": "code",
   "execution_count": 44,
   "metadata": {},
   "outputs": [
    {
     "data": {
      "text/plain": [
       "array([6.20462983e-01, 7.83336070e-18, 1.21972744e-19, 2.03475332e-01,\n",
       "       1.76061685e-01])"
      ]
     },
     "execution_count": 44,
     "metadata": {},
     "output_type": "execute_result"
    }
   ],
   "source": [
    "w_minvar"
   ]
  },
  {
   "cell_type": "code",
   "execution_count": 55,
   "metadata": {},
   "outputs": [],
   "source": [
    "# Vector de w\n",
    "N = 101\n",
    "w = np.linspace(0, 3, N)"
   ]
  },
  {
   "cell_type": "code",
   "execution_count": 56,
   "metadata": {},
   "outputs": [],
   "source": [
    "# DataFrame de portafolios: \n",
    "# 1. Índice: i\n",
    "# 2. Columnas 1-2: w, 1-w\n",
    "# 3. Columnas 3-4: E[r], sigma\n",
    "# 4. Columna 5: Sharpe ratio\n",
    "frontera = pd.DataFrame(data={'w_EMV': w,\n",
    "                              'w_minvar': 1 - w,\n",
    "                              'Media': w * E_EMV + (1 - w) * E_minvar,\n",
    "                              'Vol': ((w * s_EMV)**2 + ((1 - w) * s_minvar)**2 + 2 * w * (1 - w) * cov)**0.5})\n",
    "frontera['RS'] = (frontera['Media'] - rf) / frontera['Vol']"
   ]
  },
  {
   "cell_type": "code",
   "execution_count": 57,
   "metadata": {},
   "outputs": [],
   "source": [
    "# Importar librerías de gráficos\n",
    "from matplotlib import pyplot as plt\n",
    "%matplotlib inline"
   ]
  },
  {
   "cell_type": "code",
   "execution_count": 59,
   "metadata": {},
   "outputs": [
    {
     "data": {
      "text/plain": [
       "<matplotlib.legend.Legend at 0x7f64a8bebd10>"
      ]
     },
     "execution_count": 59,
     "metadata": {},
     "output_type": "execute_result"
    },
    {
     "data": {
      "image/png": "[encoded data removed]",
      "text/plain": [
       "<Figure size 432x288 with 2 Axes>"
      ]
     },
     "metadata": {
      "needs_background": "light"
     },
     "output_type": "display_data"
    }
   ],
   "source": [
    "# Gráfica de dispersión de puntos coloreando \n",
    "# de acuerdo a SR, los activos individuales\n",
    "# y los portafolios hallados\n",
    "# Frontera\n",
    "plt.scatter(frontera['Vol'],\n",
    "            frontera['Media'],\n",
    "            c=frontera['RS'],\n",
    "            cmap='RdYlBu',\n",
    "            label='Frontera de mínima varianza')\n",
    "plt.colorbar()\n",
    "# Activos ind\n",
    "for i in range(n):\n",
    "    plt.plot(annual_ret_summ.iloc[1, i], annual_ret_summ.iloc[0, i], 'o', label=annual_ret_summ.columns[i])\n",
    "# Port. óptimos\n",
    "plt.plot(s_EMV, E_EMV, '*g', ms=20, label='Portafolio EMV')\n",
    "plt.plot(s_minvar, E_minvar, '*b', ms=20, label='Portafolio mínima varianza')\n",
    "# Etiquetas de los ejes\n",
    "plt.xlabel('Volatilidad $\\sigma$')\n",
    "plt.ylabel('Rendimiento esperado $E[r]$')\n",
    "# Leyenda\n",
    "plt.legend(loc='upper left', bbox_to_anchor=(1.3, 1))"
   ]
  },
  {
   "cell_type": "markdown",
   "metadata": {},
   "source": [
    "**A partir de lo anterior, solo restaría construir la LAC y elegir la distribución de capital de acuerdo a las preferencias (aversión al riesgo).**\n",
    "___"
   ]
  },
  {
   "cell_type": "markdown",
   "metadata": {},
   "source": [
    "## 3. Comentarios finales\n",
    "\n",
    "### 3.1. Restricciones adicionales\n",
    "\n",
    "Los inversionistas pueden tener restricciones adicionales:\n",
    "1. Restricciones en posiciones cortas.\n",
    "2. Pueden requerir un rendimiento mínimo.\n",
    "3. Inversión socialmente responsable: prescinden de inversiones en negocios o paises considerados éticamente o políticamente indeseables.\n",
    "\n",
    "Todo lo anterior se puede incluir como restricciones en el problema de optimización, y puede ser llevado a cabo a costa de un cociente de Sharpe menor."
   ]
  },
  {
   "cell_type": "markdown",
   "metadata": {},
   "source": [
    "### 3.2. Críticas a la optimización media varianza\n",
    "1. Solo importan medias y varianzas: recordar que la varianza subestima el riesgo en algunos casos.\n",
    "2. Preferencias media-varianza tratan las ganancias y pérdidas simétricamente: el sentimiento de insatisfacción de una perdida es mayor al sentimiento de satisfacción de una ganancia (aversión a pérdidas).\n",
    "3. La aversión al riesgo es constante: la actitud frente al riesgo puede cambiar, por ejemplo con el estado de la economía.\n",
    "4. Horizonte corto (un periodo).\n",
    "5. Basura entra - basura sale: la optimización media varianza es supremamente sensible a las entradas: estimaciones de rendimientos esperados y varianzas.\n",
    "___"
   ]
  },
  {
   "cell_type": "markdown",
   "metadata": {},
   "source": [
    "# Anuncios parroquiales\n",
    "\n",
    "## 1. Quiz la próxima clase (clases 12, 13, y 14).\n",
    "## 2. Revisar archivo Tarea 6.\n",
    "## 3. [Nota interesante](http://yetanothermathprogrammingconsultant.blogspot.com/2016/08/portfolio-optimization-maximize-sharpe.html)"
   ]
  },
  {
   "cell_type": "markdown",
   "metadata": {},
   "source": [
    "<script>\n",
    "  $(document).ready(function(){\n",
    "    $('div.prompt').hide();\n",
    "    $('div.back-to-top').hide();\n",
    "    $('nav#menubar').hide();\n",
    "    $('.breadcrumb').hide();\n",
    "    $('.hidden-print').hide();\n",
    "  });\n",
    "</script>\n",
    "\n",
    "<footer id=\"attribution\" style=\"float:right; color:#808080; background:#fff;\">\n",
    "Created with Jupyter by Esteban Jiménez Rodríguez.\n",
    "</footer>"
   ]
  }
 ],
 "metadata": {
  "kernelspec": {
   "display_name": "Python 3",
   "language": "python",
   "name": "python3"
  },
  "language_info": {
   "codemirror_mode": {
    "name": "ipython",
    "version": 3
   },
   "file_extension": ".py",
   "mimetype": "text/x-python",
   "name": "python",
   "nbconvert_exporter": "python",
   "pygments_lexer": "ipython3",
   "version": "3.7.6"
  }
 },
 "nbformat": 4,
 "nbformat_minor": 2
}
