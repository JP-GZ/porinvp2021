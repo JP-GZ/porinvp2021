{
 "cells": [
  {
   "cell_type": "markdown",
   "metadata": {},
   "source": [
    "Suponga que tiene $100,000 y los siguientes dos activos para construir un portafolio:\n",
    "\n",
    "- un activo libre de riesgo con una tasa de rendimiento del $6\\%$ anual, y\n",
    "- un activo riesgoso con un rendimiento esperado del $15\\%$ anual, y una desviación estándar del $25\\%$.\n",
    "\n",
    "Si se construye un portafolio con una desviación estándar del $20\\%$, ¿cuál es su rendimiento esperado?\n"
   ]
  },
  {
   "cell_type": "code",
   "execution_count": 1,
   "metadata": {},
   "outputs": [
    {
     "data": {
      "text/plain": [
       "0.132"
      ]
     },
     "execution_count": 1,
     "metadata": {},
     "output_type": "execute_result"
    }
   ],
   "source": [
    "sp = 0.2\n",
    "ss = 0.25\n",
    "Ers = 0.15\n",
    "rf = 0.06\n",
    "w = sp / ss\n",
    "Erp = w * Ers + (1 - w) * rf\n",
    "Erp"
   ]
  },
  {
   "cell_type": "markdown",
   "metadata": {},
   "source": [
    "Suponga que usted tiene $\\$600,000$ invertidos en un portafolio diversificado y obtienes por una herencia de un miembro familiar $\\$100,000$ los cuales están invertidos en Family Co. Tu asesor financiero te da la siguiente información:\n",
    "\n",
    " \n",
    "|                         |\tRendimiento esperado |\tDesviación estándar |\n",
    "|-------------------------|----------------------|----------------------|\n",
    "|Portafolio diversificado | \t8% \t| 28% |\n",
    "|Family Co |\t15% |\t35%|\n",
    "\n",
    " \n",
    "\n",
    "El coeficiente de correlación entre tu portafolio diversificado y Family Co es 0.4."
   ]
  },
  {
   "cell_type": "code",
   "execution_count": 2,
   "metadata": {},
   "outputs": [
    {
     "data": {
      "text/plain": [
       "0.09"
      ]
     },
     "execution_count": 2,
     "metadata": {},
     "output_type": "execute_result"
    }
   ],
   "source": [
    "# ¿Cuál es el rendimiento esperado de tu nuevo portafolio que \n",
    "# incluye las acciones en Family Co?\n",
    "w_p = 600000 / 700000\n",
    "w_f = 100000 / 700000\n",
    "E_p = 0.08\n",
    "s_p = 0.28\n",
    "E_f = 0.15\n",
    "s_f = 0.35\n",
    "Erp = w_p * E_p + w_f * E_f\n",
    "Erp"
   ]
  },
  {
   "cell_type": "code",
   "execution_count": 3,
   "metadata": {},
   "outputs": [
    {
     "data": {
      "text/plain": [
       "0.2640075756488817"
      ]
     },
     "execution_count": 3,
     "metadata": {},
     "output_type": "execute_result"
    }
   ],
   "source": [
    "# ¿Cuál es la volatilidad de tu nuevo portafolio que \n",
    "# incluye las acciones en Family Co?\n",
    "r_pf = 0.4\n",
    "sp = ((w_p * s_p)**2 + (w_f * s_f)**2 + 2 * w_p * w_f * r_pf * s_f * s_p)**0.5\n",
    "sp"
   ]
  },
  {
   "cell_type": "code",
   "execution_count": 4,
   "metadata": {},
   "outputs": [
    {
     "data": {
      "text/plain": [
       "0.07571428571428572"
      ]
     },
     "execution_count": 4,
     "metadata": {},
     "output_type": "execute_result"
    }
   ],
   "source": [
    "# Continuando con las preguntas anteriores, \n",
    "# suponga que usted decide vender su posición en Family Co\n",
    "# e invertir en bonos del gobierno que dan el 5% de rendimiento anual.\n",
    "# ¿Cuál sería su rendimiento esperado en el nuevo portafolio portafolio\n",
    "# que inluye los bonos del gobierno?\n",
    "rf = 0.05\n",
    "Erp = w_p * E_p + w_f * rf\n",
    "Erp"
   ]
  },
  {
   "cell_type": "code",
   "execution_count": 5,
   "metadata": {},
   "outputs": [
    {
     "data": {
      "text/plain": [
       "0.24000000000000002"
      ]
     },
     "execution_count": 5,
     "metadata": {},
     "output_type": "execute_result"
    }
   ],
   "source": [
    "# ¿Cuál sería la volatilidad de este nuevo portafolio\n",
    "# incluyendo los bonos del gobierno?\n",
    "sp = w_p * s_p\n",
    "sp"
   ]
  },
  {
   "cell_type": "code",
   "execution_count": null,
   "metadata": {},
   "outputs": [],
   "source": []
  }
 ],
 "metadata": {
  "kernelspec": {
   "display_name": "Python 3",
   "language": "python",
   "name": "python3"
  },
  "language_info": {
   "codemirror_mode": {
    "name": "ipython",
    "version": 3
   },
   "file_extension": ".py",
   "mimetype": "text/x-python",
   "name": "python",
   "nbconvert_exporter": "python",
   "pygments_lexer": "ipython3",
   "version": "3.7.6"
  }
 },
 "nbformat": 4,
 "nbformat_minor": 4
}
